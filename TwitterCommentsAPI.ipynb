{
 "cells": [
  {
   "cell_type": "markdown",
   "id": "f9d0db33",
   "metadata": {},
   "source": [
    "## Twitter API Data Collection Script\n",
    "\n",
    "This script collects tweets using the Twitter API and stores them in a MongoDB database. It includes rate limit handling to ensure continuous data collection without exceeding the API limits."
   ]
  },
  {
   "cell_type": "code",
   "execution_count": null,
   "id": "e9443da7",
   "metadata": {},
   "outputs": [],
   "source": [
    "# Importing Necessary Libraries\n",
    "# In this section, we import libraries needed for the script:\n",
    "# - `requests` for making HTTP requests to the Twitter API.\n",
    "# - `pymongo` for interacting with MongoDB.\n",
    "# - `os` for accessing environment variables and other operating system-related functions.\n",
    "# - `time` for handling rate limits by pausing execution.\n",
    "\n",
    "import requests\n",
    "import pymongo\n",
    "import os\n",
    "import time"
   ]
  },
  {
   "cell_type": "markdown",
   "id": "1720027b",
   "metadata": {},
   "source": [
    "### MongoDB Connection Setup\n",
    "\n",
    "This is establishing a connection to MongoDB for storing the tweets."
   ]
  },
  {
   "cell_type": "code",
   "execution_count": null,
   "id": "874a885b",
   "metadata": {},
   "outputs": [],
   "source": [
    "# MongoDB connection\n",
    "client = pymongo.MongoClient(\"mongodb://localhost:27017/\")\n",
    "db_name = \"WS_Data_DB\"  # Database name\n",
    "collection_name = \"TwitterComments\"  # Collection name"
   ]
  },
  {
   "cell_type": "markdown",
   "id": "57db1563",
   "metadata": {},
   "source": [
    "### Twitter API Configuration\n",
    "\n",
    "Here, we define the bearer token for authenticating with the Twitter API and set up the Twitter API query. "
   ]
  },
  {
   "cell_type": "code",
   "execution_count": null,
   "id": "a586a4cd",
   "metadata": {},
   "outputs": [],
   "source": [
    "# Bearer token for Twitter API\n",
    "bearer_token = \"AAAAAAAAAAAAAAAAAAAAAABfsAEAAAAAQmungvEoLc4vDPs9WqhsD8nAV0o%3DX64BVBakw2zGrPXnhYacyLBpH3PKBOYfsvonkpwfhd30K2cP7r\"\n",
    "\n",
    "# Twitter API setup\n",
    "search_url = \"https://api.twitter.com/2/tweets/search/recent\"\n",
    "query_params = {\n",
    "    'query': 'LogRhythm -from:LogRhythm',  # Exclude tweets from @LogRhythm\n",
    "    'tweet.fields': 'id,text,author_id,created_at',\n",
    "    'max_results': 100  # Specify the number of results per request, up to 100\n",
    "}"
   ]
  },
  {
   "cell_type": "markdown",
   "id": "20670a85",
   "metadata": {},
   "source": [
    "### Rate Limit Handling and API Connection Functions\n",
    "\n",
    "Functions to handle the rate limiting of the Twitter API and to make requests to the API, set up Oauth connection to Twitter, and defines the endpoint connection to the Search API."
   ]
  },
  {
   "cell_type": "code",
   "execution_count": null,
   "id": "103d3c7f",
   "metadata": {},
   "outputs": [],
   "source": [
    "# Rate limiting settings\n",
    "requests_per_minute = 60  # Adjust this based on your rate limits\n",
    "sleep_time = 60 / requests_per_minute"
   ]
  },
  {
   "cell_type": "code",
   "execution_count": null,
   "id": "d893e76e",
   "metadata": {},
   "outputs": [],
   "source": [
    "# OAuth Setup\n",
    "# This function sets up the OAuth for the Twitter API requests.\n",
    "def bearer_oauth(r):\n",
    "    r.headers[\"Authorization\"] = f\"Bearer {bearer_token}\"\n",
    "    r.headers[\"User-Agent\"] = \"v2RecentSearchPython\"\n",
    "    return r\n",
    "\n",
    "# Endpoint Connection\n",
    "# This function manages the connection to the Twitter API endpoint.\n",
    "def connect_to_endpoint(url, params):\n",
    "    response = requests.get(url, auth=bearer_oauth, params=params)\n",
    "    \n",
    "    # Check if the response is a rate limit exceeded error (HTTP status code 429)\n",
    "    if response.status_code == 429:\n",
    "        print(\"Rate limit exceeded. Waiting for reset...\")\n",
    "        time.sleep(15 * 60)  # Wait for 15 minutes for rate limit reset\n",
    "        return connect_to_endpoint(url, params)  # Retry the request after waiting\n",
    "    \n",
    "    if response.status_code != 200:\n",
    "        raise Exception(response.status_code, response.text)\n",
    "    \n",
    "    return response.json()"
   ]
  },
  {
   "cell_type": "markdown",
   "id": "7bf1a0d8",
   "metadata": {},
   "source": [
    "### Tweet Existence Check\n",
    "This function checks if a tweet already exists in the MongoDB collection."
   ]
  },
  {
   "cell_type": "code",
   "execution_count": null,
   "id": "def70547",
   "metadata": {},
   "outputs": [],
   "source": [
    "# Function to check if a tweet with a specific ID exists in the database\n",
    "def tweet_exists(tweet_id, collection):\n",
    "    return collection.find_one({'tweet_id': tweet_id}) is not None"
   ]
  },
  {
   "cell_type": "markdown",
   "id": "c7ad6665",
   "metadata": {},
   "source": [
    "### Main Function\n",
    "This is the main function where the script execution begins.\n",
    "It continuously fetches and processes tweets."
   ]
  },
  {
   "cell_type": "code",
   "execution_count": null,
   "id": "1f33eb79",
   "metadata": {},
   "outputs": [],
   "source": [
    "# Main function for collecting and storing tweets\n",
    "def main():\n",
    "    # Create or access the MongoDB collection\n",
    "    db = client[db_name]\n",
    "    collection = db[collection_name]\n",
    "    \n",
    "    next_token = None  # Initialize next_token\n",
    "    oldest_tweet_id = None  # Initialize the oldest tweet ID\n",
    "    \n",
    "    sleep_time = 15  # Sleep time (in seconds) to respect rate limits\n",
    "    \n",
    "    while True:\n",
    "        if next_token:\n",
    "            query_params['next_token'] = next_token  # Include next_token in the query\n",
    "            \n",
    "        if oldest_tweet_id:\n",
    "            query_params['until_id'] = oldest_tweet_id  # Include until_id to get older tweets\n",
    "            \n",
    "        json_response = connect_to_endpoint(search_url, query_params)\n",
    "        tweets = json_response.get(\"data\", [])\n",
    "\n",
    "        if not tweets:\n",
    "            print(\"No more tweets to fetch.\")\n",
    "            break\n",
    "\n",
    "        # Process and store tweets\n",
    "        for tweet in tweets:\n",
    "            tweet_id = tweet[\"id\"]\n",
    "            \n",
    "            # Update the oldest tweet ID if necessary\n",
    "            if oldest_tweet_id is None or tweet_id < oldest_tweet_id:\n",
    "                oldest_tweet_id = tweet_id\n",
    "\n",
    "            # Check if the tweet is already in the database\n",
    "            if not tweet_exists(tweet_id, collection):\n",
    "                tweet_data = {\n",
    "                    'tweet_id': tweet_id,\n",
    "                    'text': tweet[\"text\"],\n",
    "                    'created_at': tweet[\"created_at\"],\n",
    "                    'author_id': tweet[\"author_id\"]\n",
    "                    # Add more fields as needed\n",
    "                }\n",
    "\n",
    "                # Insert the tweet into the database\n",
    "                collection.insert_one(tweet_data)\n",
    "                print(f\"Inserted tweet with ID: {tweet_id}\")\n",
    "            else:\n",
    "                print(f\"Tweet with ID {tweet_id} already exists in the database\")\n",
    "        \n",
    "        # Get the next_token for pagination, if available\n",
    "        next_token = json_response.get(\"meta\", {}).get(\"next_token\")\n",
    "        \n",
    "        # Sleep to respect rate limits\n",
    "        time.sleep(sleep_time)\n",
    "\n",
    "if __name__ == \"__main__\":\n",
    "    main()"
   ]
  },
  {
   "cell_type": "code",
   "execution_count": null,
   "id": "8a1edfbe",
   "metadata": {},
   "outputs": [],
   "source": []
  }
 ],
 "metadata": {
  "kernelspec": {
   "display_name": "Python 3 (ipykernel)",
   "language": "python",
   "name": "python3"
  },
  "language_info": {
   "codemirror_mode": {
    "name": "ipython",
    "version": 3
   },
   "file_extension": ".py",
   "mimetype": "text/x-python",
   "name": "python",
   "nbconvert_exporter": "python",
   "pygments_lexer": "ipython3",
   "version": "3.9.18"
  }
 },
 "nbformat": 4,
 "nbformat_minor": 5
}
