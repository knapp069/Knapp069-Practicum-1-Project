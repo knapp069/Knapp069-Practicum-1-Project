{
 "cells": [
  {
   "cell_type": "markdown",
   "id": "ef2034a9",
   "metadata": {},
   "source": [
    "### Keyword and Phrase Extraction using TF-IDF\n",
    "Extract keywords and phrases from the text using TF-IDF."
   ]
  },
  {
   "cell_type": "code",
   "execution_count": 1,
   "id": "55002ca0",
   "metadata": {},
   "outputs": [],
   "source": [
    "# Imports for data manipulation and analysis\n",
    "import pandas as pd\n",
    "\n",
    "# Imports from scikit-learn for TF-IDF and clustering\n",
    "from sklearn.feature_extraction.text import TfidfVectorizer\n",
    "from sklearn.cluster import KMeans"
   ]
  },
  {
   "cell_type": "markdown",
   "id": "55349b70",
   "metadata": {},
   "source": [
    "### Read Data Frame Data\n",
    "Get the processed data frame in Pickle format."
   ]
  },
  {
   "cell_type": "code",
   "execution_count": 2,
   "id": "c97b7f63",
   "metadata": {},
   "outputs": [],
   "source": [
    "# Load the DataFrame\n",
    "df = pd.read_pickle('C:\\\\Users\\\\ted59\\\\Knapp069-Practicum-1-Project\\\\Processed Data\\\\processed_document_data.pkl')"
   ]
  },
  {
   "cell_type": "markdown",
   "id": "74f2a53d",
   "metadata": {},
   "source": [
    "### Apply TF-IDF\n",
    "Convert the collection of raw documents to a matrix of TF-IDF features using The parameters max_df=0.85 and min_df=2."
   ]
  },
  {
   "cell_type": "code",
   "execution_count": 3,
   "id": "03bdefed",
   "metadata": {},
   "outputs": [],
   "source": [
    "# Apply TF-IDF to the processed text\n",
    "\n",
    "tfidf_vectorizer = TfidfVectorizer(max_df=0.85, min_df=2, stop_words='english')\n",
    "tfidf_matrix = tfidf_vectorizer.fit_transform(df['processed_content'])\n",
    "\n",
    "# Extract feature names (key terms)\n",
    "feature_names = tfidf_vectorizer.get_feature_names_out()"
   ]
  },
  {
   "cell_type": "markdown",
   "id": "b2be5450",
   "metadata": {},
   "source": [
    "### Clustering for Intent Discovery\n",
    "Cluster the extracted phrases to group similar phrases, representing potential intents."
   ]
  },
  {
   "cell_type": "code",
   "execution_count": 4,
   "id": "68b62363",
   "metadata": {},
   "outputs": [],
   "source": [
    "# Number of clusters (intents) - adjust based on your analysis\n",
    "num_clusters = 10\n",
    "\n",
    "# Apply K-means clustering\n",
    "km = KMeans(n_clusters=num_clusters, n_init=10)\n",
    "km.fit(tfidf_matrix)\n",
    "clusters = km.labels_.tolist()\n",
    "\n",
    "# Add cluster labels to DataFrame\n",
    "df['cluster'] = clusters"
   ]
  },
  {
   "cell_type": "markdown",
   "id": "dfefae6d",
   "metadata": {},
   "source": [
    "### Generating Training Examples from Clusters\n",
    "Generate training examples for each identified intent."
   ]
  },
  {
   "cell_type": "code",
   "execution_count": 5,
   "id": "49f08686",
   "metadata": {},
   "outputs": [],
   "source": [
    "# Group by cluster to get training examples for each intent\n",
    "training_examples = df.groupby('cluster')['processed_content'].apply(list)"
   ]
  },
  {
   "cell_type": "markdown",
   "id": "2b3f5c15",
   "metadata": {},
   "source": [
    " ## # Save Clustered Data\n",
    " Save this data for further analysis or manual review."
   ]
  },
  {
   "cell_type": "code",
   "execution_count": 6,
   "id": "7e8d7cb9",
   "metadata": {},
   "outputs": [],
   "source": [
    "# Save this data for further analysis or manual review as Pickle file.\n",
    "training_examples.to_pickle('C:\\\\Users\\\\ted59\\\\Knapp069-Practicum-1-Project\\\\Processed Data\\\\clustered_data.pkl')"
   ]
  },
  {
   "cell_type": "markdown",
   "id": "fec9d5ba",
   "metadata": {},
   "source": [
    "### Read and Print the Clustered Data File Contents"
   ]
  },
  {
   "cell_type": "code",
   "execution_count": 7,
   "id": "a9e5bdf7",
   "metadata": {},
   "outputs": [],
   "source": [
    "# Read the contents of the clustered_data Pickle file\n",
    "file_path = 'C:\\\\Users\\\\ted59\\\\Knapp069-Practicum-1-Project\\\\Processed Data\\\\clustered_data.pkl'\n",
    "df = pd.read_pickle(file_path)"
   ]
  },
  {
   "cell_type": "code",
   "execution_count": 8,
   "id": "bd685b02",
   "metadata": {},
   "outputs": [
    {
     "name": "stdout",
     "output_type": "stream",
     "text": [
      "cluster\n",
      "0    [list client consol skip main content show nav...\n",
      "1    [system monitor skip main content show navig g...\n",
      "2    [log collect web consol skip main content show...\n",
      "3    [messag process engin rule builder skip main c...\n",
      "4    [applic manag skip main content show navig go ...\n",
      "Name: processed_content, dtype: object\n",
      "\n",
      "\n",
      "cluster\n",
      "5    [inclus librari skip main content show navig g...\n",
      "6    [logrhythm siem skip main content show navig g...\n",
      "7    [modifi singl log sourc skip main content show...\n",
      "8    [creat schedul report skip main content show n...\n",
      "9    [ga releas note januari skip main content show...\n",
      "Name: processed_content, dtype: object\n",
      "\n",
      "\n",
      "<class 'pandas.core.series.Series'>\n",
      "Index: 10 entries, 0 to 9\n",
      "Series name: processed_content\n",
      "Non-Null Count  Dtype \n",
      "--------------  ----- \n",
      "10 non-null     object\n",
      "dtypes: object(1)\n",
      "memory usage: 160.0+ bytes\n",
      "None\n"
     ]
    }
   ],
   "source": [
    "print(df.head())\n",
    "print ('\\n')\n",
    "print(df.tail())\n",
    "print ('\\n')\n",
    "print(df.info())\n",
    "\n",
    "# Iterate over the Series and print to a file\n",
    "with open('C:\\\\Users\\\\ted59\\\\Knapp069-Practicum-1-Project\\\\Processed Data\\\\clustered_data.txt', 'w', encoding='utf-8') as file:\n",
    "    for cluster_index, content in df.items():\n",
    "        file.write(f\"Cluster {cluster_index} contents:\\n\")\n",
    "        file.write('\\n'.join(content) + \"\\n\\n\")"
   ]
  }
 ],
 "metadata": {
  "kernelspec": {
   "display_name": "Python 3 (ipykernel)",
   "language": "python",
   "name": "python3"
  },
  "language_info": {
   "codemirror_mode": {
    "name": "ipython",
    "version": 3
   },
   "file_extension": ".py",
   "mimetype": "text/x-python",
   "name": "python",
   "nbconvert_exporter": "python",
   "pygments_lexer": "ipython3",
   "version": "3.11.5"
  }
 },
 "nbformat": 4,
 "nbformat_minor": 5
}
