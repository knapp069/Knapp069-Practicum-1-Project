{
 "cells": [
  {
   "cell_type": "code",
   "execution_count": 1,
   "id": "9279bd73",
   "metadata": {},
   "outputs": [
    {
     "name": "stdout",
     "output_type": "stream",
     "text": [
      "Rasa YAML files have been set up at: C:\\Users\\ted59\\Knapp069-Practicum-1-Project\\Rasa_Chatbot\\LogRhythm_ChatBot\n"
     ]
    }
   ],
   "source": [
    "import pandas as pd\n",
    "import yaml\n",
    "from pathlib import Path\n",
    "import subprocess\n",
    "\n",
    "# Load your DataFrame\n",
    "df = pd.read_pickle('C:\\\\Users\\\\ted59\\\\Knapp069-Practicum-1-Project\\\\Processed Data\\\\processed_document_data.pkl')\n",
    "\n",
    "# Define your Rasa project directory\n",
    "rasa_project_dir = Path('C:\\\\Users\\\\ted59\\\\Knapp069-Practicum-1-Project\\\\Rasa_Chatbot\\\\LogRhythm_ChatBot')\n",
    "\n",
    "# Ensure the necessary directories exist\n",
    "rasa_data_dir = rasa_project_dir / 'data'\n",
    "rasa_data_dir.mkdir(parents=True, exist_ok=True)\n",
    "\n",
    "# Process DataFrame to create Rasa training data\n",
    "intents = {}\n",
    "responses = {}\n",
    "stories = []\n",
    "\n",
    "for index, row in df.iterrows():\n",
    "    # Logic to create intents, responses, and stories from your DataFrame\n",
    "    intent_name = f\"intent_{index}\"\n",
    "    response_name = f\"utter_{intent_name}\"\n",
    "    intents[intent_name] = [{'text': 'example user input'}]  # Replace with real examples\n",
    "    responses[response_name] = [{'text': row['processed_content']}]\n",
    "    stories.append({\n",
    "        'story': f'story_{index}',\n",
    "        'steps': [\n",
    "            {'intent': intent_name},\n",
    "            {'action': response_name}\n",
    "        ]\n",
    "    })\n",
    "\n",
    "# Function to write data to YAML files\n",
    "def write_to_yaml(file_path, data):\n",
    "    with open(file_path, 'w') as file:\n",
    "        yaml.dump(data, file, default_flow_style=False)\n",
    "\n",
    "# Write intents, responses, and stories to YAML files\n",
    "write_to_yaml(rasa_data_dir / 'nlu.yml', {'nlu': [{'intent': intent, 'examples': '\\n'.join('- ' + ex['text'] for ex in examples)} for intent, examples in intents.items()]})\n",
    "write_to_yaml(rasa_data_dir / 'stories.yml', {'stories': stories})\n",
    "write_to_yaml(rasa_project_dir / 'domain.yml', {'intents': list(intents.keys()), 'responses': responses, 'actions': list(responses.keys())})\n",
    "\n",
    "print(\"Rasa YAML files have been set up at:\", rasa_project_dir)\n",
    "\n",
    "# Train the Rasa model\n",
    "print(\"Training the Rasa model...\")\n",
    "subprocess.run(['rasa', 'train'], cwd=rasa_project_dir)\n",
    "\n",
    "# Launch the Rasa shell\n",
    "print(\"Launching the Rasa shell...\")\n",
    "subprocess.run(['rasa', 'shell'], cwd=rasa_project_dir)\n"
   ]
  },
  {
   "cell_type": "code",
   "execution_count": null,
   "id": "4ae164b8",
   "metadata": {},
   "outputs": [],
   "source": []
  }
 ],
 "metadata": {
  "kernelspec": {
   "display_name": "Python 3 (ipykernel)",
   "language": "python",
   "name": "python3"
  },
  "language_info": {
   "codemirror_mode": {
    "name": "ipython",
    "version": 3
   },
   "file_extension": ".py",
   "mimetype": "text/x-python",
   "name": "python",
   "nbconvert_exporter": "python",
   "pygments_lexer": "ipython3",
   "version": "3.11.5"
  }
 },
 "nbformat": 4,
 "nbformat_minor": 5
}
