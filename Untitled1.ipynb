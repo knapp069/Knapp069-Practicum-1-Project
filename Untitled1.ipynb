{
 "cells": [
  {
   "cell_type": "code",
   "execution_count": 8,
   "id": "7f0c8b92",
   "metadata": {},
   "outputs": [
    {
     "name": "stdout",
     "output_type": "stream",
     "text": [
      "Topic assignment completed. Results saved to topic_assignments.txt.\n"
     ]
    }
   ],
   "source": [
    "import pymongo\n",
    "import math\n",
    "from gensim import models\n",
    "from gensim.utils import simple_preprocess\n",
    "\n",
    "# Define the preprocess_text function if it's not already defined\n",
    "def preprocess_text(text):\n",
    "    # Implement your preprocessing steps here\n",
    "    return text\n",
    "\n",
    "def assign_topics_to_documents(documents, output_file, lda_model):\n",
    "    with open(output_file, 'a') as f:\n",
    "        for document in documents:\n",
    "            # Concatenate text from multiple fields\n",
    "            fields = ['title', 'general']\n",
    "            content_sections = document.get('content_sections', {})\n",
    "            if isinstance(content_sections, dict):\n",
    "                fields.extend(content_sections.values())\n",
    "            else:\n",
    "                fields.append(content_sections)\n",
    "            text = ' '.join([str(document.get(field, '')) for field in fields])\n",
    "            processed_text = preprocess_text(text)\n",
    "            tokens = simple_preprocess(processed_text)  # Tokenize the text\n",
    "            bow_vector = lda_model.id2word.doc2bow(tokens)\n",
    "            topics = lda_model.get_document_topics(bow_vector)\n",
    "            # Write the document ID and corresponding topics to the file\n",
    "            f.write(f\"Document ID: {document['_id']}\\n\")\n",
    "            for topic, prob in topics:\n",
    "                f.write(f\"Topic {topic}: {prob}\\n\")\n",
    "            f.write(\"\\n\")\n",
    "\n",
    "# Assuming this is your main script\n",
    "if __name__ == \"__main__\":\n",
    "    # Connect to MongoDB and get the collection\n",
    "    client = pymongo.MongoClient(\"mongodb://localhost:27017/\")\n",
    "    db = client[\"WS_Data_DB\"]\n",
    "    collection = db[\"LogRhythm7_15Docs\"]\n",
    "\n",
    "    # Load the trained LDA model\n",
    "    lda_model = models.LdaModel.load('C:\\\\Users\\\\ted59\\\\Knapp069-Practicum-1-Project\\\\Processed Data\\\\lda_model.pkl')\n",
    "\n",
    "    # Batch processing of documents\n",
    "    batch_size = 100\n",
    "    total_documents = collection.count_documents({})\n",
    "    total_batches = math.ceil(total_documents / batch_size)\n",
    "    output_file = 'C:\\\\Users\\\\ted59\\\\Knapp069-Practicum-1-Project\\\\Processed Data\\\\topic_assignments.txt'\n",
    "    for batch_index in range(total_batches):\n",
    "        skip = batch_index * batch_size\n",
    "        documents = collection.find().skip(skip).limit(batch_size)\n",
    "        assign_topics_to_documents(documents, output_file, lda_model)\n",
    "    print(\"Topic assignment completed. Results saved to topic_assignments.txt.\")\n"
   ]
  },
  {
   "cell_type": "code",
   "execution_count": null,
   "id": "d5cda4d3",
   "metadata": {},
   "outputs": [],
   "source": []
  }
 ],
 "metadata": {
  "kernelspec": {
   "display_name": "Python 3 (ipykernel)",
   "language": "python",
   "name": "python3"
  },
  "language_info": {
   "codemirror_mode": {
    "name": "ipython",
    "version": 3
   },
   "file_extension": ".py",
   "mimetype": "text/x-python",
   "name": "python",
   "nbconvert_exporter": "python",
   "pygments_lexer": "ipython3",
   "version": "3.11.5"
  }
 },
 "nbformat": 4,
 "nbformat_minor": 5
}
